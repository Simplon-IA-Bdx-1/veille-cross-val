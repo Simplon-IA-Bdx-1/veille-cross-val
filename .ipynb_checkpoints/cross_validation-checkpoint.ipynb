{
 "cells": [
  {
   "cell_type": "markdown",
   "metadata": {},
   "source": [
    "# Cross-validation : avantages et inconvénients\n",
    "\n",
    "____\n",
    "\n",
    "Liens : \n",
    "- [Cours OpenClassrooms](https://openclassrooms.com/fr/courses/4297211-evaluez-et-ameliorez-les-performances-dun-modele-de-machine-learning/4308241-mettez-en-place-un-cadre-de-validation-croisee)\n",
    "- [Vidéo Pierrot Machine Learnia](https://www.youtube.com/watch?v=VoyMOVfCSfc&t=1136s)\n",
    "- [Dataset Iris sklearn](https://scikit-learn.org/stable/datasets/index.html)\n"
   ]
  },
  {
   "cell_type": "code",
   "execution_count": 1,
   "metadata": {},
   "outputs": [],
   "source": [
    "import pandas as pd\n",
    "from xgboost import XGBClassifier"
   ]
  },
  {
   "cell_type": "markdown",
   "metadata": {},
   "source": [
    "### Ce qu'on faisait avant\n",
    "\n",
    "Split du dataset en un ensemble d'entrainement et un ensemble pour estimer la performance de notre modèle\n",
    "![train_test](train_test.png)\n",
    "\n",
    "L'estimation de la perfomance de notre modele peut s'en retrouvé biaisée car elle dépent des données qui vont se retrouver dans l'ensemble de validation ( par exemple un ensemble de validation qui comporterait uniquement des observations d'une meme classe dans un problème de classification) "
   ]
  },
  {
   "cell_type": "markdown",
   "metadata": {},
   "source": [
    "### La cross validation\n",
    "\n",
    "- La cross validation permet d'utiliser l'intégralité de notre jeu de donnée pour l'entrainement et la validation\n",
    "\n",
    "- Fonctionnement : split du jeu de donnée en k parties ( folds )  à peu prés égales , tour à tour chaque partie est utilisée comme jeu de test , le reste sert à entrainer le modéle\n",
    "\n",
    "\n",
    "![k_folds](k_folds.png)\n"
   ]
  },
  {
   "cell_type": "markdown",
   "metadata": {},
   "source": [
    "### Dataset Iris\n",
    "\n",
    "- Probleme de classification , prédire de quelle famille est une iris en fonction de 4 features ( longueur du pétale etc...)\n",
    "- 3 familles différentes distribuées de maniere égale\n"
   ]
  },
  {
   "cell_type": "code",
   "execution_count": 2,
   "metadata": {},
   "outputs": [],
   "source": [
    "from sklearn.datasets import load_iris"
   ]
  },
  {
   "cell_type": "code",
   "execution_count": 3,
   "metadata": {},
   "outputs": [],
   "source": [
    "iris = load_iris()\n",
    "X_train = iris.data\n",
    "y_train = iris.target"
   ]
  },
  {
   "cell_type": "markdown",
   "metadata": {},
   "source": [
    "#### KFold"
   ]
  },
  {
   "cell_type": "code",
   "execution_count": 4,
   "metadata": {},
   "outputs": [],
   "source": [
    "from sklearn.model_selection import cross_val_score\n",
    "from sklearn.model_selection import KFold"
   ]
  },
  {
   "cell_type": "code",
   "execution_count": null,
   "metadata": {},
   "outputs": [],
   "source": [
    "cv = KFold(5,random_state=0)\n",
    "cross_val_score(XGBClassifier(), X_train,y_train,cv=cv)"
   ]
  }
 ],
 "metadata": {
  "kernelspec": {
   "display_name": "Python 3",
   "language": "python",
   "name": "python3"
  },
  "language_info": {
   "codemirror_mode": {
    "name": "ipython",
    "version": 3
   },
   "file_extension": ".py",
   "mimetype": "text/x-python",
   "name": "python",
   "nbconvert_exporter": "python",
   "pygments_lexer": "ipython3",
   "version": "3.7.4"
  }
 },
 "nbformat": 4,
 "nbformat_minor": 2
}
